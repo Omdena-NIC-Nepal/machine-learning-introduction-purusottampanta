{
 "cells": [
  {
   "cell_type": "markdown",
   "metadata": {},
   "source": [
    "## EDA on Boston Housing Dataset from UCI\n"
   ]
  },
  {
   "cell_type": "code",
   "execution_count": null,
   "metadata": {},
   "outputs": [],
   "source": [
    "#Load necessary libraries and packages\n",
    "\n",
    "import pandas as pd\n",
    "import seaborn as sns\n",
    "import matplotlib.pyplot as plt\n",
    "import numpy as np"
   ]
  },
  {
   "cell_type": "code",
   "execution_count": 23,
   "metadata": {},
   "outputs": [],
   "source": [
    "def getDataframe():\n",
    "    # Loading Dataset\n",
    "    data_path = '../data/boston_housing.csv'\n",
    "    # Read CSV file and convert na values in the data to np.nan\n",
    "    return pd.read_csv(data_path,  na_values='NA') \n",
    "\n",
    "def describeDataProperties(df):\n",
    "    #View Overview of Data\n",
    "    print(\"Data Structure:\")\n",
    "    print(df.info())\n",
    "\n",
    "    print(\"\\nSummary Statistics:\")\n",
    "    print(df.describe())\n",
    "\n",
    "    #Check if there are any missing values \n",
    "    missing_values = df.isnull().sum()\n",
    "    print(\"\\nMissing Values per Column:\")\n",
    "    print(missing_values)\n"
   ]
  },
  {
   "cell_type": "code",
   "execution_count": 17,
   "metadata": {},
   "outputs": [],
   "source": [
    "def visualizeRelationship():\n",
    "    # Visualize relationships\n",
    "    sns.pairplot(df, diag_kind='kde', plot_kws={'alpha': 0.7})\n",
    "    plt.show()"
   ]
  },
  {
   "cell_type": "code",
   "execution_count": 18,
   "metadata": {},
   "outputs": [],
   "source": [
    "def plotCorrelationHeatMap():\n",
    "    plt.figure(figsize=(12, 8))\n",
    "    sns.heatmap(df.corr(), annot=True, cmap='coolwarm', fmt='.2f')\n",
    "    plt.title(\"Feature Correlation Heatmap\")\n",
    "    plt.show()"
   ]
  },
  {
   "cell_type": "code",
   "execution_count": null,
   "metadata": {},
   "outputs": [],
   "source": [
    "def plotBoxPlotForOutlier():\n",
    "    plt.figure(figsize=(16, 8))\n",
    "    sns.boxplot(data=df, palette=\"Set3\")\n",
    "    plt.xticks(rotation=45)\n",
    "    plt.title(\"Boxplots for Outlier Detection\")\n",
    "    plt.show()\n",
    "\n",
    "    "
   ]
  }
 ],
 "metadata": {
  "kernelspec": {
   "display_name": "Python 3",
   "language": "python",
   "name": "python3"
  },
  "language_info": {
   "codemirror_mode": {
    "name": "ipython",
    "version": 3
   },
   "file_extension": ".py",
   "mimetype": "text/x-python",
   "name": "python",
   "nbconvert_exporter": "python",
   "pygments_lexer": "ipython3",
   "version": "3.13.1"
  }
 },
 "nbformat": 4,
 "nbformat_minor": 2
}
